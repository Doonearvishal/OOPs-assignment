{
 "cells": [
  {
   "cell_type": "code",
   "execution_count": 1,
   "id": "678cd48b-a5be-4a57-97cb-1fa4d9f149a1",
   "metadata": {},
   "outputs": [],
   "source": [
    "## Q.1 Create a vehicle class with an init method having instance variables as name_of_vehicle,max_speed and average_of_vehicle."
   ]
  },
  {
   "cell_type": "code",
   "execution_count": 11,
   "id": "1ce3d62a-3c24-41f4-b3b9-a1546606dda6",
   "metadata": {},
   "outputs": [],
   "source": [
    "class vehicle:\n",
    "    def __init__(self, name_of_vehicle, max_speed, average_of_vehicle):\n",
    "        self.name_of_vehicle = name_of_vehicle\n",
    "        self.max_speed = max_speed\n",
    "        self.average_of_vehicle = average_0f_vehicle"
   ]
  },
  {
   "cell_type": "code",
   "execution_count": 14,
   "id": "3e44c16b-5471-4063-93a0-5623f18d0008",
   "metadata": {},
   "outputs": [],
   "source": [
    "## Q.2 create a child class car from the vehicle class created in Que1,which will inherit the vehicle class create a method named seating_capacity which takes capacity as an argument and returns the name of the vehicle and its seating capacity."
   ]
  },
  {
   "cell_type": "code",
   "execution_count": 15,
   "id": "093295f5-5112-4bd3-adde-e26b842fdb55",
   "metadata": {},
   "outputs": [],
   "source": [
    "class car(vehicle):\n",
    "    def seating_capacity(self, capacity):\n",
    "        return f\"{self.name_of_vehicle} has a seating capacity of {capacity}.\""
   ]
  },
  {
   "cell_type": "code",
   "execution_count": 17,
   "id": "cbaea628-d427-441e-b0d4-3f6a3f1d7ea9",
   "metadata": {},
   "outputs": [],
   "source": [
    "## Q.3 What is multiple inheritance? Write a python code to demonstrate multiple inheritance."
   ]
  },
  {
   "cell_type": "code",
   "execution_count": 28,
   "id": "858eefdd-04a1-4d7c-8d79-fb8a812759ba",
   "metadata": {},
   "outputs": [],
   "source": [
    "class A:\n",
    "    def method_A(self):\n",
    "        print(\"method A\")\n",
    "        \n",
    "class B:\n",
    "    def method_B(self):\n",
    "        print(\"method B\")\n",
    "        \n",
    "class C(A,B):\n",
    "    def method_C(self):\n",
    "        print(\"method C\")"
   ]
  },
  {
   "cell_type": "code",
   "execution_count": 30,
   "id": "8117835a-1d33-44f0-bf62-3fe28cf1995f",
   "metadata": {},
   "outputs": [],
   "source": [
    "vv = C()"
   ]
  },
  {
   "cell_type": "code",
   "execution_count": 32,
   "id": "474e1d17-8926-463f-8f3c-b17a7ab0c697",
   "metadata": {},
   "outputs": [
    {
     "name": "stdout",
     "output_type": "stream",
     "text": [
      "method A\n"
     ]
    }
   ],
   "source": [
    "vv.method_A()"
   ]
  },
  {
   "cell_type": "code",
   "execution_count": 33,
   "id": "33da0972-e13c-4925-a432-3b3ddad3e3dc",
   "metadata": {},
   "outputs": [
    {
     "name": "stdout",
     "output_type": "stream",
     "text": [
      "method B\n"
     ]
    }
   ],
   "source": [
    "vv.method_B()"
   ]
  },
  {
   "cell_type": "code",
   "execution_count": 34,
   "id": "1b529aa2-991b-495f-94ba-a79b75f90330",
   "metadata": {},
   "outputs": [
    {
     "name": "stdout",
     "output_type": "stream",
     "text": [
      "method C\n"
     ]
    }
   ],
   "source": [
    "vv.method_C()"
   ]
  },
  {
   "cell_type": "code",
   "execution_count": 35,
   "id": "8dd8bb9b-412c-411b-9fcf-5d5a369a1d85",
   "metadata": {},
   "outputs": [],
   "source": [
    "## Q.4 What are getter and setter in python? Create a class and create a getter and a setter method in this class."
   ]
  },
  {
   "cell_type": "code",
   "execution_count": 15,
   "id": "fba1826c-faa2-4e9d-a8e5-53835f502f58",
   "metadata": {},
   "outputs": [],
   "source": [
    "class Example:\n",
    "    def __init__(self):\n",
    "        self._value = 0    #private attribute\n",
    "        \n",
    "    def get_value(self):\n",
    "        return self._value    #getter method\n",
    "    \n",
    "    def set_value(self, value):\n",
    "        self._value = value    #setter method"
   ]
  },
  {
   "cell_type": "code",
   "execution_count": 17,
   "id": "b1edd5ac-bfdf-4de7-a936-fd15aa588eeb",
   "metadata": {},
   "outputs": [
    {
     "name": "stdout",
     "output_type": "stream",
     "text": [
      "0\n",
      "5\n"
     ]
    }
   ],
   "source": [
    "obj = Example()\n",
    "print(obj.get_value())\n",
    "\n",
    "obj.set_value(5)\n",
    "print(obj.get_value())"
   ]
  },
  {
   "cell_type": "code",
   "execution_count": 18,
   "id": "4ae317f4-d82a-4781-bb25-814a17b94d4d",
   "metadata": {},
   "outputs": [],
   "source": [
    "## Q.5 What is method averriding in python? Write a python code to demonstrate method overriding."
   ]
  },
  {
   "cell_type": "code",
   "execution_count": null,
   "id": "99637185-05f4-416c-b902-cdaa18d9e5e3",
   "metadata": {},
   "outputs": [],
   "source": [
    "class akshay:\n",
    "    def show(self):\n",
    "        print(\"akshay is legend actor\")\n",
    "        \n",
    "class shalman(akshay):\n",
    "    def show(self):\n",
    "        print(\"shalman is also legend actor\")"
   ]
  }
 ],
 "metadata": {
  "kernelspec": {
   "display_name": "Python 3 (ipykernel)",
   "language": "python",
   "name": "python3"
  },
  "language_info": {
   "codemirror_mode": {
    "name": "ipython",
    "version": 3
   },
   "file_extension": ".py",
   "mimetype": "text/x-python",
   "name": "python",
   "nbconvert_exporter": "python",
   "pygments_lexer": "ipython3",
   "version": "3.10.8"
  }
 },
 "nbformat": 4,
 "nbformat_minor": 5
}
