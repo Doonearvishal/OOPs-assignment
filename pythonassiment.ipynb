{
 "cells": [
  {
   "cell_type": "code",
   "execution_count": 29,
   "id": "a4b8c55a-6a89-44ed-a9b0-408180a37e3e",
   "metadata": {},
   "outputs": [],
   "source": [
    "## Q.1 Explain class and object with respect to object_oriented programming. Give a suitable example."
   ]
  },
  {
   "cell_type": "code",
   "execution_count": 38,
   "id": "f399abec-c784-421e-955f-88a5fffce0a4",
   "metadata": {},
   "outputs": [],
   "source": [
    "class Car:\n",
    "    def __init__(self, brand, model):\n",
    "        self.brand = brand\n",
    "        self.model = model\n",
    "        \n",
    "    def drive(self):\n",
    "        return f\"{self.brand} {self.model} is driving.\""
   ]
  },
  {
   "cell_type": "code",
   "execution_count": 39,
   "id": "f564c401-fb01-420c-824a-d98378885518",
   "metadata": {},
   "outputs": [
    {
     "name": "stdout",
     "output_type": "stream",
     "text": [
      "toyota camry is driving.\n"
     ]
    }
   ],
   "source": [
    "my_car = Car(\"toyota\", \"camry\")\n",
    "print(my_car.drive())"
   ]
  },
  {
   "cell_type": "code",
   "execution_count": 40,
   "id": "9e20df9d-1946-494a-bb8c-0e98a1b5507f",
   "metadata": {},
   "outputs": [],
   "source": [
    "## Q.2 Name the four pillars of OOPs."
   ]
  },
  {
   "cell_type": "code",
   "execution_count": 41,
   "id": "677b6ea5-dad6-481a-9f79-ad886bf05942",
   "metadata": {},
   "outputs": [],
   "source": [
    "### Ans.2 \n",
    "\n",
    "  #(i) Encapsulation\n",
    "  #(ii) Abstraction\n",
    "  #(iii)Inheritance\n",
    "  #(iv)Polymorphism"
   ]
  },
  {
   "cell_type": "code",
   "execution_count": 42,
   "id": "224fb67d-9b59-4bc4-8798-b090f381834c",
   "metadata": {},
   "outputs": [],
   "source": [
    "## Q.3 Explain why the __init__() function is used.Give a suitable example."
   ]
  },
  {
   "cell_type": "code",
   "execution_count": 45,
   "id": "69dd41a5-c3cd-4298-ade3-de094f83eee5",
   "metadata": {},
   "outputs": [],
   "source": [
    "class Person:\n",
    "    def __init__(self, name, age):\n",
    "        self.name = name\n",
    "        self.age = age \n",
    "        \n",
    "    def greet(self):\n",
    "        return f\"Hello, my name is {self.name} and I'm {self.age} years old.\""
   ]
  },
  {
   "cell_type": "code",
   "execution_count": 46,
   "id": "d8ad68f3-1d58-46a5-a3bc-3c6c0c0fda98",
   "metadata": {},
   "outputs": [
    {
     "name": "stdout",
     "output_type": "stream",
     "text": [
      "Hello, my name is Alice and I'm 30 years old.\n"
     ]
    }
   ],
   "source": [
    "person1 = Person(\"Alice\", 30)\n",
    "print(person1.greet())"
   ]
  },
  {
   "cell_type": "code",
   "execution_count": 47,
   "id": "e67e2d6f-d57c-4bd7-94f4-0e238bc7f86e",
   "metadata": {},
   "outputs": [],
   "source": [
    "## Q.4 Why self is used in OOPs?"
   ]
  },
  {
   "cell_type": "code",
   "execution_count": 48,
   "id": "cda94060-5869-46a9-9197-633b0ddcee5d",
   "metadata": {},
   "outputs": [],
   "source": [
    "### Ans.4 In OOPs, self is a reference to the current instance of the class. It is used to access variables and methods of the class within the class definition."
   ]
  },
  {
   "cell_type": "code",
   "execution_count": 49,
   "id": "9c061ed6-ff2a-4588-a377-eb1f3210ba59",
   "metadata": {},
   "outputs": [],
   "source": [
    "## Q.5 What is inheritance? Give an example for each type of inheritance."
   ]
  },
  {
   "cell_type": "code",
   "execution_count": 50,
   "id": "99656199-e614-49d6-bc39-8d6692e0d5c3",
   "metadata": {},
   "outputs": [],
   "source": [
    "### Ans.5 \n",
    "\n",
    "# Single Inheritance: When a class inherits from only one parent class."
   ]
  },
  {
   "cell_type": "code",
   "execution_count": 51,
   "id": "58ae76e4-0f63-412a-b78a-263b50f8ad83",
   "metadata": {},
   "outputs": [],
   "source": [
    "class Animal:\n",
    "    def speak(self):\n",
    "        return \"Animal speaks.\"\n",
    "    \n",
    "class Dod(Animal):\n",
    "    def bark(self):\n",
    "        return \"Dog barks.\""
   ]
  },
  {
   "cell_type": "code",
   "execution_count": 52,
   "id": "73cb35f5-356b-401c-88a6-d3f4df72e93f",
   "metadata": {},
   "outputs": [
    {
     "ename": "NameError",
     "evalue": "name 'Dog' is not defined",
     "output_type": "error",
     "traceback": [
      "\u001b[0;31m---------------------------------------------------------------------------\u001b[0m",
      "\u001b[0;31mNameError\u001b[0m                                 Traceback (most recent call last)",
      "Cell \u001b[0;32mIn[52], line 1\u001b[0m\n\u001b[0;32m----> 1\u001b[0m my_dog \u001b[38;5;241m=\u001b[39m \u001b[43mDog\u001b[49m()\n",
      "\u001b[0;31mNameError\u001b[0m: name 'Dog' is not defined"
     ]
    }
   ],
   "source": [
    "my_dog = Dog()"
   ]
  },
  {
   "cell_type": "code",
   "execution_count": null,
   "id": "45fa4959-f8ed-44cb-a048-00c66212b09c",
   "metadata": {},
   "outputs": [],
   "source": []
  }
 ],
 "metadata": {
  "kernelspec": {
   "display_name": "Python 3 (ipykernel)",
   "language": "python",
   "name": "python3"
  },
  "language_info": {
   "codemirror_mode": {
    "name": "ipython",
    "version": 3
   },
   "file_extension": ".py",
   "mimetype": "text/x-python",
   "name": "python",
   "nbconvert_exporter": "python",
   "pygments_lexer": "ipython3",
   "version": "3.10.8"
  }
 },
 "nbformat": 4,
 "nbformat_minor": 5
}
