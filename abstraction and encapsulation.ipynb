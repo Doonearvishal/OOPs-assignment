{
 "cells": [
  {
   "cell_type": "code",
   "execution_count": 1,
   "id": "e0f12b24-8dcb-4d62-b183-e49fdc31d8c1",
   "metadata": {},
   "outputs": [],
   "source": [
    "## Q.1 What is Abstraction in OOPs? Explain with an example."
   ]
  },
  {
   "cell_type": "code",
   "execution_count": 7,
   "id": "16a3ac3a-f616-4f0f-9439-9498551d87c9",
   "metadata": {},
   "outputs": [
    {
     "data": {
      "text/plain": [
       "\"Ans.1 Abstraction in OOPs refers to the concept of hinding complex implementation details and showing only the necessary\\n         features of an object to the outside world. It focuses on what an object does rather than how it does it. For example, consider a car. From a user's perspective, they only need to know how to drive it, not how the engine works or how the transmission system functions.\""
      ]
     },
     "execution_count": 7,
     "metadata": {},
     "output_type": "execute_result"
    }
   ],
   "source": [
    " \"\"\"Ans.1 Abstraction in OOPs refers to the concept of hinding complex implementation details and showing only the necessary\n",
    "          features of an object to the outside world. It focuses on what an object does rather than how it does it. For example, consider a car. From a user's perspective, they only need to know how to drive it, not how the engine works or how the transmission system functions.\"\"\""
   ]
  },
  {
   "cell_type": "code",
   "execution_count": 8,
   "id": "2656f944-6020-41b1-b609-783f7c8076df",
   "metadata": {},
   "outputs": [],
   "source": [
    "## Q.2 Differentiate between Abstraction and Encapsulation. Explain with an example."
   ]
  },
  {
   "cell_type": "code",
   "execution_count": 9,
   "id": "dec9de37-5ff6-42db-b503-8dc59cd42998",
   "metadata": {},
   "outputs": [
    {
     "data": {
      "text/plain": [
       "\"Ans.2 Abstraction is about hiding the complex implementation details and showing only the essential features of an abject, whereas encapsulation is about boundling the data (attributes) and methods (functions) that operate on the data into a single unit. In simpler terms, abstraction is the act of representing essential features without including background details, while encapsulation is the act of hiding the internal state of an object. For example, in a bank system, the concept of an account (abstraction) hides the details of how transactions are processed inside it, while encapsulation ensures that the account's data nd methods are kept together and inaccessible from outside the account.\""
      ]
     },
     "execution_count": 9,
     "metadata": {},
     "output_type": "execute_result"
    }
   ],
   "source": [
    "\"\"\"Ans.2 Abstraction is about hiding the complex implementation details and showing only the essential features of an abject, whereas encapsulation is about boundling the data (attributes) and methods (functions) that operate on the data into a single unit. In simpler terms, abstraction is the act of representing essential features without including background details, while encapsulation is the act of hiding the internal state of an object. For example, in a bank system, the concept of an account (abstraction) hides the details of how transactions are processed inside it, while encapsulation ensures that the account's data nd methods are kept together and inaccessible from outside the account.\"\"\""
   ]
  },
  {
   "cell_type": "code",
   "execution_count": 10,
   "id": "1cc8476a-7ee6-4020-bca9-17e1babb6ee4",
   "metadata": {},
   "outputs": [],
   "source": [
    "## Q.3 What is abc module in Python? Why is it used?"
   ]
  },
  {
   "cell_type": "code",
   "execution_count": 13,
   "id": "19f6ecf0-c4f4-42a4-bad6-5dac2b48ad3a",
   "metadata": {},
   "outputs": [
    {
     "data": {
      "text/plain": [
       "'Ans.3 The abc module in Python stands for Abstract Base Classes. It provides a way to define abstract base classes and abstract methods. Abstract base classes are clases that can not be instantiatd and are meant to be subclassed. They are used to define a common interface for a group of related classes. The abc module is used when you want to define a blueprint for a group of classes, ensuring that certain methods are implemented in all subclasses.'"
      ]
     },
     "execution_count": 13,
     "metadata": {},
     "output_type": "execute_result"
    }
   ],
   "source": [
    "\"\"\"Ans.3 The abc module in Python stands for Abstract Base Classes. It provides a way to define abstract base classes and abstract methods. Abstract base classes are clases that can not be instantiatd and are meant to be subclassed. They are used to define a common interface for a group of related classes. The abc module is used when you want to define a blueprint for a group of classes, ensuring that certain methods are implemented in all subclasses.\"\"\" "
   ]
  },
  {
   "cell_type": "code",
   "execution_count": 14,
   "id": "e0d6bb1c-3f7d-4a32-8e5f-a805004fbe62",
   "metadata": {},
   "outputs": [],
   "source": [
    "## Q.4 How can we achieve data abstraction?"
   ]
  },
  {
   "cell_type": "code",
   "execution_count": 15,
   "id": "73de00c1-1a0e-4459-ba98-ce19201b96f9",
   "metadata": {},
   "outputs": [
    {
     "data": {
      "text/plain": [
       "'Ans.4 Data abstraction can be achieved in programming by using abstract classes and interfaces. Abstract classes are classes that can not be instantiated and may contain one or more abstract methods, which are meant to be implemented by subclasses. Interfaces, on the other hand, are similar to abstract classes but only contain method signatures without any implementation. By defining abstract classes or interfaces, you create a blueprint that enforces certain behaviors without specifying the exact implementation.'"
      ]
     },
     "execution_count": 15,
     "metadata": {},
     "output_type": "execute_result"
    }
   ],
   "source": [
    "\"\"\"Ans.4 Data abstraction can be achieved in programming by using abstract classes and interfaces. Abstract classes are classes that can not be instantiated and may contain one or more abstract methods, which are meant to be implemented by subclasses. Interfaces, on the other hand, are similar to abstract classes but only contain method signatures without any implementation. By defining abstract classes or interfaces, you create a blueprint that enforces certain behaviors without specifying the exact implementation.\"\"\""
   ]
  },
  {
   "cell_type": "code",
   "execution_count": 16,
   "id": "3c233bc7-f446-4916-bf35-d03957698267",
   "metadata": {},
   "outputs": [],
   "source": [
    "## Q.5 Can we create an instance of an abstract class? Explain your answer."
   ]
  },
  {
   "cell_type": "code",
   "execution_count": null,
   "id": "8b54efe1-e407-4b86-8f5e-dd9121730a9c",
   "metadata": {},
   "outputs": [],
   "source": [
    "\"\"\"Ans.5 No, we can not create an instance of an abstract class in Python. Abstract classes are meant to be subclassed, and they typically contain one or more abstract methods that must be implemented by the subclass. Attempting to instanti"
   ]
  }
 ],
 "metadata": {
  "kernelspec": {
   "display_name": "Python 3 (ipykernel)",
   "language": "python",
   "name": "python3"
  },
  "language_info": {
   "codemirror_mode": {
    "name": "ipython",
    "version": 3
   },
   "file_extension": ".py",
   "mimetype": "text/x-python",
   "name": "python",
   "nbconvert_exporter": "python",
   "pygments_lexer": "ipython3",
   "version": "3.10.8"
  }
 },
 "nbformat": 4,
 "nbformat_minor": 5
}
